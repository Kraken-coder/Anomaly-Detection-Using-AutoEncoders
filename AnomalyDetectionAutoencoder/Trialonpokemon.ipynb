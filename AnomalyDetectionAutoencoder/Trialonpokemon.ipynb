{
 "cells": [
  {
   "cell_type": "code",
   "execution_count": 59,
   "id": "c012cc63",
   "metadata": {},
   "outputs": [],
   "source": [
    "import pandas as pd\n",
    "import numpy as np\n",
    "import torch\n",
    "import tensorflow as tf\n",
    "from tensorflow.keras.models import Sequential\n",
    "from tensorflow.keras.layers import Dense"
   ]
  },
  {
   "cell_type": "code",
   "execution_count": 34,
   "id": "fe7533aa",
   "metadata": {},
   "outputs": [],
   "source": [
    "df = pd.read_csv('pokemon_data.csv')"
   ]
  },
  {
   "cell_type": "code",
   "execution_count": 35,
   "id": "9dd71aea",
   "metadata": {},
   "outputs": [
    {
     "data": {
      "text/html": [
       "<div>\n",
       "<style scoped>\n",
       "    .dataframe tbody tr th:only-of-type {\n",
       "        vertical-align: middle;\n",
       "    }\n",
       "\n",
       "    .dataframe tbody tr th {\n",
       "        vertical-align: top;\n",
       "    }\n",
       "\n",
       "    .dataframe thead th {\n",
       "        text-align: right;\n",
       "    }\n",
       "</style>\n",
       "<table border=\"1\" class=\"dataframe\">\n",
       "  <thead>\n",
       "    <tr style=\"text-align: right;\">\n",
       "      <th></th>\n",
       "      <th>#</th>\n",
       "      <th>Name</th>\n",
       "      <th>Type 1</th>\n",
       "      <th>Type 2</th>\n",
       "      <th>HP</th>\n",
       "      <th>Attack</th>\n",
       "      <th>Defense</th>\n",
       "      <th>Sp. Atk</th>\n",
       "      <th>Sp. Def</th>\n",
       "      <th>Speed</th>\n",
       "      <th>Generation</th>\n",
       "      <th>Legendary</th>\n",
       "    </tr>\n",
       "  </thead>\n",
       "  <tbody>\n",
       "    <tr>\n",
       "      <th>0</th>\n",
       "      <td>1</td>\n",
       "      <td>Bulbasaur</td>\n",
       "      <td>Grass</td>\n",
       "      <td>Poison</td>\n",
       "      <td>45</td>\n",
       "      <td>49</td>\n",
       "      <td>49</td>\n",
       "      <td>65</td>\n",
       "      <td>65</td>\n",
       "      <td>45</td>\n",
       "      <td>1</td>\n",
       "      <td>False</td>\n",
       "    </tr>\n",
       "    <tr>\n",
       "      <th>1</th>\n",
       "      <td>2</td>\n",
       "      <td>Ivysaur</td>\n",
       "      <td>Grass</td>\n",
       "      <td>Poison</td>\n",
       "      <td>60</td>\n",
       "      <td>62</td>\n",
       "      <td>63</td>\n",
       "      <td>80</td>\n",
       "      <td>80</td>\n",
       "      <td>60</td>\n",
       "      <td>1</td>\n",
       "      <td>False</td>\n",
       "    </tr>\n",
       "    <tr>\n",
       "      <th>2</th>\n",
       "      <td>3</td>\n",
       "      <td>Venusaur</td>\n",
       "      <td>Grass</td>\n",
       "      <td>Poison</td>\n",
       "      <td>80</td>\n",
       "      <td>82</td>\n",
       "      <td>83</td>\n",
       "      <td>100</td>\n",
       "      <td>100</td>\n",
       "      <td>80</td>\n",
       "      <td>1</td>\n",
       "      <td>False</td>\n",
       "    </tr>\n",
       "    <tr>\n",
       "      <th>3</th>\n",
       "      <td>3</td>\n",
       "      <td>VenusaurMega Venusaur</td>\n",
       "      <td>Grass</td>\n",
       "      <td>Poison</td>\n",
       "      <td>80</td>\n",
       "      <td>100</td>\n",
       "      <td>123</td>\n",
       "      <td>122</td>\n",
       "      <td>120</td>\n",
       "      <td>80</td>\n",
       "      <td>1</td>\n",
       "      <td>False</td>\n",
       "    </tr>\n",
       "    <tr>\n",
       "      <th>4</th>\n",
       "      <td>4</td>\n",
       "      <td>Charmander</td>\n",
       "      <td>Fire</td>\n",
       "      <td>NaN</td>\n",
       "      <td>39</td>\n",
       "      <td>52</td>\n",
       "      <td>43</td>\n",
       "      <td>60</td>\n",
       "      <td>50</td>\n",
       "      <td>65</td>\n",
       "      <td>1</td>\n",
       "      <td>False</td>\n",
       "    </tr>\n",
       "    <tr>\n",
       "      <th>...</th>\n",
       "      <td>...</td>\n",
       "      <td>...</td>\n",
       "      <td>...</td>\n",
       "      <td>...</td>\n",
       "      <td>...</td>\n",
       "      <td>...</td>\n",
       "      <td>...</td>\n",
       "      <td>...</td>\n",
       "      <td>...</td>\n",
       "      <td>...</td>\n",
       "      <td>...</td>\n",
       "      <td>...</td>\n",
       "    </tr>\n",
       "    <tr>\n",
       "      <th>795</th>\n",
       "      <td>719</td>\n",
       "      <td>Diancie</td>\n",
       "      <td>Rock</td>\n",
       "      <td>Fairy</td>\n",
       "      <td>50</td>\n",
       "      <td>100</td>\n",
       "      <td>150</td>\n",
       "      <td>100</td>\n",
       "      <td>150</td>\n",
       "      <td>50</td>\n",
       "      <td>6</td>\n",
       "      <td>True</td>\n",
       "    </tr>\n",
       "    <tr>\n",
       "      <th>796</th>\n",
       "      <td>719</td>\n",
       "      <td>DiancieMega Diancie</td>\n",
       "      <td>Rock</td>\n",
       "      <td>Fairy</td>\n",
       "      <td>50</td>\n",
       "      <td>160</td>\n",
       "      <td>110</td>\n",
       "      <td>160</td>\n",
       "      <td>110</td>\n",
       "      <td>110</td>\n",
       "      <td>6</td>\n",
       "      <td>True</td>\n",
       "    </tr>\n",
       "    <tr>\n",
       "      <th>797</th>\n",
       "      <td>720</td>\n",
       "      <td>HoopaHoopa Confined</td>\n",
       "      <td>Psychic</td>\n",
       "      <td>Ghost</td>\n",
       "      <td>80</td>\n",
       "      <td>110</td>\n",
       "      <td>60</td>\n",
       "      <td>150</td>\n",
       "      <td>130</td>\n",
       "      <td>70</td>\n",
       "      <td>6</td>\n",
       "      <td>True</td>\n",
       "    </tr>\n",
       "    <tr>\n",
       "      <th>798</th>\n",
       "      <td>720</td>\n",
       "      <td>HoopaHoopa Unbound</td>\n",
       "      <td>Psychic</td>\n",
       "      <td>Dark</td>\n",
       "      <td>80</td>\n",
       "      <td>160</td>\n",
       "      <td>60</td>\n",
       "      <td>170</td>\n",
       "      <td>130</td>\n",
       "      <td>80</td>\n",
       "      <td>6</td>\n",
       "      <td>True</td>\n",
       "    </tr>\n",
       "    <tr>\n",
       "      <th>799</th>\n",
       "      <td>721</td>\n",
       "      <td>Volcanion</td>\n",
       "      <td>Fire</td>\n",
       "      <td>Water</td>\n",
       "      <td>80</td>\n",
       "      <td>110</td>\n",
       "      <td>120</td>\n",
       "      <td>130</td>\n",
       "      <td>90</td>\n",
       "      <td>70</td>\n",
       "      <td>6</td>\n",
       "      <td>True</td>\n",
       "    </tr>\n",
       "  </tbody>\n",
       "</table>\n",
       "<p>800 rows × 12 columns</p>\n",
       "</div>"
      ],
      "text/plain": [
       "       #                   Name   Type 1  Type 2  HP  Attack  Defense  \\\n",
       "0      1              Bulbasaur    Grass  Poison  45      49       49   \n",
       "1      2                Ivysaur    Grass  Poison  60      62       63   \n",
       "2      3               Venusaur    Grass  Poison  80      82       83   \n",
       "3      3  VenusaurMega Venusaur    Grass  Poison  80     100      123   \n",
       "4      4             Charmander     Fire     NaN  39      52       43   \n",
       "..   ...                    ...      ...     ...  ..     ...      ...   \n",
       "795  719                Diancie     Rock   Fairy  50     100      150   \n",
       "796  719    DiancieMega Diancie     Rock   Fairy  50     160      110   \n",
       "797  720    HoopaHoopa Confined  Psychic   Ghost  80     110       60   \n",
       "798  720     HoopaHoopa Unbound  Psychic    Dark  80     160       60   \n",
       "799  721              Volcanion     Fire   Water  80     110      120   \n",
       "\n",
       "     Sp. Atk  Sp. Def  Speed  Generation  Legendary  \n",
       "0         65       65     45           1      False  \n",
       "1         80       80     60           1      False  \n",
       "2        100      100     80           1      False  \n",
       "3        122      120     80           1      False  \n",
       "4         60       50     65           1      False  \n",
       "..       ...      ...    ...         ...        ...  \n",
       "795      100      150     50           6       True  \n",
       "796      160      110    110           6       True  \n",
       "797      150      130     70           6       True  \n",
       "798      170      130     80           6       True  \n",
       "799      130       90     70           6       True  \n",
       "\n",
       "[800 rows x 12 columns]"
      ]
     },
     "execution_count": 35,
     "metadata": {},
     "output_type": "execute_result"
    }
   ],
   "source": [
    "df"
   ]
  },
  {
   "cell_type": "code",
   "execution_count": 36,
   "id": "5659252f",
   "metadata": {},
   "outputs": [],
   "source": [
    "type_list = df['Type 1'].to_list()"
   ]
  },
  {
   "cell_type": "code",
   "execution_count": 37,
   "id": "ab4c8485",
   "metadata": {},
   "outputs": [
    {
     "name": "stdout",
     "output_type": "stream",
     "text": [
      "['Grass', 'Grass', 'Grass', 'Grass', 'Fire', 'Fire', 'Fire', 'Fire', 'Fire', 'Water', 'Water', 'Water', 'Water', 'Bug', 'Bug', 'Bug', 'Bug', 'Bug', 'Bug', 'Bug', 'Normal', 'Normal', 'Normal', 'Normal', 'Normal', 'Normal', 'Normal', 'Normal', 'Poison', 'Poison', 'Electric', 'Electric', 'Ground', 'Ground', 'Poison', 'Poison', 'Poison', 'Poison', 'Poison', 'Poison', 'Fairy', 'Fairy', 'Fire', 'Fire', 'Normal', 'Normal', 'Poison', 'Poison', 'Grass', 'Grass', 'Grass', 'Bug', 'Bug', 'Bug', 'Bug', 'Ground', 'Ground', 'Normal', 'Normal', 'Water', 'Water', 'Fighting', 'Fighting', 'Fire', 'Fire', 'Water', 'Water', 'Water', 'Psychic', 'Psychic', 'Psychic', 'Psychic', 'Fighting', 'Fighting', 'Fighting', 'Grass', 'Grass', 'Grass', 'Water', 'Water', 'Rock', 'Rock', 'Rock', 'Fire', 'Fire', 'Water', 'Water', 'Water', 'Electric', 'Electric', 'Normal', 'Normal', 'Normal', 'Water', 'Water', 'Poison', 'Poison', 'Water', 'Water', 'Ghost', 'Ghost', 'Ghost', 'Ghost', 'Rock', 'Psychic', 'Psychic', 'Water', 'Water', 'Electric', 'Electric', 'Grass', 'Grass', 'Ground', 'Ground', 'Fighting', 'Fighting', 'Normal', 'Poison', 'Poison', 'Ground', 'Ground', 'Normal', 'Grass', 'Normal', 'Normal', 'Water', 'Water', 'Water', 'Water', 'Water', 'Water', 'Psychic', 'Bug', 'Ice', 'Electric', 'Fire', 'Bug', 'Bug', 'Normal', 'Water', 'Water', 'Water', 'Water', 'Normal', 'Normal', 'Water', 'Electric', 'Fire', 'Normal', 'Rock', 'Rock', 'Rock', 'Rock', 'Rock', 'Rock', 'Normal', 'Ice', 'Electric', 'Fire', 'Dragon', 'Dragon', 'Dragon', 'Psychic', 'Psychic', 'Psychic', 'Psychic', 'Grass', 'Grass', 'Grass', 'Fire', 'Fire', 'Fire', 'Water', 'Water', 'Water', 'Normal', 'Normal', 'Normal', 'Normal', 'Bug', 'Bug', 'Bug', 'Bug', 'Poison', 'Water', 'Water', 'Electric', 'Fairy', 'Normal', 'Fairy', 'Fairy', 'Psychic', 'Psychic', 'Electric', 'Electric', 'Electric', 'Electric', 'Grass', 'Water', 'Water', 'Rock', 'Water', 'Grass', 'Grass', 'Grass', 'Normal', 'Grass', 'Grass', 'Bug', 'Water', 'Water', 'Psychic', 'Dark', 'Dark', 'Water', 'Ghost', 'Psychic', 'Psychic', 'Normal', 'Bug', 'Bug', 'Normal', 'Ground', 'Steel', 'Steel', 'Fairy', 'Fairy', 'Water', 'Bug', 'Bug', 'Bug', 'Bug', 'Bug', 'Dark', 'Normal', 'Normal', 'Fire', 'Fire', 'Ice', 'Ice', 'Water', 'Water', 'Water', 'Ice', 'Water', 'Steel', 'Dark', 'Dark', 'Dark', 'Water', 'Ground', 'Ground', 'Normal', 'Normal', 'Normal', 'Fighting', 'Fighting', 'Ice', 'Electric', 'Fire', 'Normal', 'Normal', 'Electric', 'Fire', 'Water', 'Rock', 'Rock', 'Rock', 'Rock', 'Psychic', 'Fire', 'Psychic', 'Grass', 'Grass', 'Grass', 'Grass', 'Fire', 'Fire', 'Fire', 'Fire', 'Water', 'Water', 'Water', 'Water', 'Dark', 'Dark', 'Normal', 'Normal', 'Bug', 'Bug', 'Bug', 'Bug', 'Bug', 'Water', 'Water', 'Water', 'Grass', 'Grass', 'Grass', 'Normal', 'Normal', 'Water', 'Water', 'Psychic', 'Psychic', 'Psychic', 'Psychic', 'Bug', 'Bug', 'Grass', 'Grass', 'Normal', 'Normal', 'Normal', 'Bug', 'Bug', 'Bug', 'Normal', 'Normal', 'Normal', 'Fighting', 'Fighting', 'Normal', 'Rock', 'Normal', 'Normal', 'Dark', 'Dark', 'Steel', 'Steel', 'Steel', 'Steel', 'Steel', 'Steel', 'Fighting', 'Fighting', 'Fighting', 'Electric', 'Electric', 'Electric', 'Electric', 'Electric', 'Bug', 'Bug', 'Grass', 'Poison', 'Poison', 'Water', 'Water', 'Water', 'Water', 'Water', 'Fire', 'Fire', 'Fire', 'Fire', 'Psychic', 'Psychic', 'Normal', 'Ground', 'Ground', 'Ground', 'Grass', 'Grass', 'Normal', 'Dragon', 'Dragon', 'Normal', 'Poison', 'Rock', 'Rock', 'Water', 'Water', 'Water', 'Water', 'Ground', 'Ground', 'Rock', 'Rock', 'Rock', 'Rock', 'Water', 'Water', 'Normal', 'Normal', 'Ghost', 'Ghost', 'Ghost', 'Ghost', 'Ghost', 'Grass', 'Psychic', 'Dark', 'Dark', 'Psychic', 'Ice', 'Ice', 'Ice', 'Ice', 'Ice', 'Ice', 'Water', 'Water', 'Water', 'Water', 'Water', 'Dragon', 'Dragon', 'Dragon', 'Dragon', 'Steel', 'Steel', 'Steel', 'Steel', 'Rock', 'Ice', 'Steel', 'Dragon', 'Dragon', 'Dragon', 'Dragon', 'Water', 'Water', 'Ground', 'Ground', 'Dragon', 'Dragon', 'Steel', 'Psychic', 'Psychic', 'Psychic', 'Psychic', 'Grass', 'Grass', 'Grass', 'Fire', 'Fire', 'Fire', 'Water', 'Water', 'Water', 'Normal', 'Normal', 'Normal', 'Normal', 'Normal', 'Bug', 'Bug', 'Electric', 'Electric', 'Electric', 'Grass', 'Grass', 'Rock', 'Rock', 'Rock', 'Rock', 'Bug', 'Bug', 'Bug', 'Bug', 'Bug', 'Bug', 'Bug', 'Electric', 'Water', 'Water', 'Grass', 'Grass', 'Water', 'Water', 'Normal', 'Ghost', 'Ghost', 'Normal', 'Normal', 'Normal', 'Ghost', 'Dark', 'Normal', 'Normal', 'Psychic', 'Poison', 'Poison', 'Steel', 'Steel', 'Rock', 'Psychic', 'Normal', 'Normal', 'Ghost', 'Dragon', 'Dragon', 'Dragon', 'Dragon', 'Normal', 'Fighting', 'Fighting', 'Fighting', 'Ground', 'Ground', 'Poison', 'Poison', 'Poison', 'Poison', 'Grass', 'Water', 'Water', 'Water', 'Grass', 'Grass', 'Grass', 'Dark', 'Electric', 'Normal', 'Ground', 'Grass', 'Electric', 'Fire', 'Fairy', 'Bug', 'Grass', 'Ice', 'Ground', 'Ice', 'Normal', 'Psychic', 'Psychic', 'Rock', 'Ghost', 'Ice', 'Electric', 'Electric', 'Electric', 'Electric', 'Electric', 'Electric', 'Psychic', 'Psychic', 'Psychic', 'Steel', 'Water', 'Fire', 'Normal', 'Ghost', 'Ghost', 'Psychic', 'Water', 'Water', 'Dark', 'Grass', 'Grass', 'Normal', 'Psychic', 'Grass', 'Grass', 'Grass', 'Fire', 'Fire', 'Fire', 'Water', 'Water', 'Water', 'Normal', 'Normal', 'Normal', 'Normal', 'Normal', 'Dark', 'Dark', 'Grass', 'Grass', 'Fire', 'Fire', 'Water', 'Water', 'Psychic', 'Psychic', 'Normal', 'Normal', 'Normal', 'Electric', 'Electric', 'Rock', 'Rock', 'Rock', 'Psychic', 'Psychic', 'Ground', 'Ground', 'Normal', 'Normal', 'Fighting', 'Fighting', 'Fighting', 'Water', 'Water', 'Water', 'Fighting', 'Fighting', 'Bug', 'Bug', 'Bug', 'Bug', 'Bug', 'Bug', 'Grass', 'Grass', 'Grass', 'Grass', 'Water', 'Ground', 'Ground', 'Ground', 'Fire', 'Fire', 'Fire', 'Grass', 'Bug', 'Bug', 'Dark', 'Dark', 'Psychic', 'Ghost', 'Ghost', 'Water', 'Water', 'Rock', 'Rock', 'Poison', 'Poison', 'Dark', 'Dark', 'Normal', 'Normal', 'Psychic', 'Psychic', 'Psychic', 'Psychic', 'Psychic', 'Psychic', 'Water', 'Water', 'Ice', 'Ice', 'Ice', 'Normal', 'Normal', 'Electric', 'Bug', 'Bug', 'Grass', 'Grass', 'Water', 'Water', 'Water', 'Bug', 'Bug', 'Grass', 'Grass', 'Steel', 'Steel', 'Steel', 'Electric', 'Electric', 'Electric', 'Psychic', 'Psychic', 'Ghost', 'Ghost', 'Ghost', 'Dragon', 'Dragon', 'Dragon', 'Ice', 'Ice', 'Ice', 'Bug', 'Bug', 'Ground', 'Fighting', 'Fighting', 'Dragon', 'Ground', 'Ground', 'Dark', 'Dark', 'Normal', 'Normal', 'Normal', 'Dark', 'Dark', 'Fire', 'Bug', 'Dark', 'Dark', 'Dark', 'Bug', 'Bug', 'Steel', 'Rock', 'Grass', 'Flying', 'Flying', 'Electric', 'Electric', 'Dragon', 'Dragon', 'Ground', 'Ground', 'Dragon', 'Dragon', 'Dragon', 'Water', 'Water', 'Normal', 'Normal', 'Bug', 'Grass', 'Grass', 'Grass', 'Fire', 'Fire', 'Fire', 'Water', 'Water', 'Water', 'Normal', 'Normal', 'Normal', 'Fire', 'Fire', 'Bug', 'Bug', 'Bug', 'Fire', 'Fire', 'Fairy', 'Fairy', 'Fairy', 'Grass', 'Grass', 'Fighting', 'Fighting', 'Normal', 'Psychic', 'Psychic', 'Psychic', 'Steel', 'Steel', 'Steel', 'Steel', 'Fairy', 'Fairy', 'Fairy', 'Fairy', 'Dark', 'Dark', 'Rock', 'Rock', 'Poison', 'Poison', 'Water', 'Water', 'Electric', 'Electric', 'Rock', 'Rock', 'Rock', 'Rock', 'Fairy', 'Fighting', 'Electric', 'Rock', 'Dragon', 'Dragon', 'Dragon', 'Steel', 'Ghost', 'Ghost', 'Ghost', 'Ghost', 'Ghost', 'Ghost', 'Ghost', 'Ghost', 'Ghost', 'Ghost', 'Ice', 'Ice', 'Flying', 'Flying', 'Fairy', 'Dark', 'Dragon', 'Rock', 'Rock', 'Psychic', 'Psychic', 'Fire']\n"
     ]
    }
   ],
   "source": [
    "print(type_list)"
   ]
  },
  {
   "cell_type": "code",
   "execution_count": 38,
   "id": "acf3cab4",
   "metadata": {},
   "outputs": [
    {
     "name": "stdout",
     "output_type": "stream",
     "text": [
      "19\n"
     ]
    }
   ],
   "source": [
    "type_list_unique = list(set(type_list2))\n",
    "print(len(type_list_unique))"
   ]
  },
  {
   "cell_type": "code",
   "execution_count": 39,
   "id": "030971aa",
   "metadata": {
    "scrolled": true
   },
   "outputs": [
    {
     "name": "stdout",
     "output_type": "stream",
     "text": [
      "['Steel', 'Bug', 'Ice', nan, 'Water', 'Fire', 'Poison', 'Flying', 'Ground', 'Dark', 'Rock', 'Normal', 'Fighting', 'Dragon', 'Electric', 'Psychic', 'Ghost', 'Fairy', 'Grass']\n"
     ]
    }
   ],
   "source": [
    "print(type_list_unique)"
   ]
  },
  {
   "cell_type": "code",
   "execution_count": 40,
   "id": "2d659702",
   "metadata": {},
   "outputs": [
    {
     "name": "stdout",
     "output_type": "stream",
     "text": [
      "{0: 'Steel', 1: 'Bug', 2: 'Ice', 3: nan, 4: 'Water', 5: 'Fire', 6: 'Poison', 7: 'Flying', 8: 'Ground', 9: 'Dark', 10: 'Rock', 11: 'Normal', 12: 'Fighting', 13: 'Dragon', 14: 'Electric', 15: 'Psychic', 16: 'Ghost', 17: 'Fairy', 18: 'Grass'}\n"
     ]
    }
   ],
   "source": [
    "numberto_type = {}\n",
    "for i in range(len(type_list_unique)):\n",
    "    numberto_type[i] = type_list_unique[i]\n",
    "print(numberto_type)"
   ]
  },
  {
   "cell_type": "code",
   "execution_count": 41,
   "id": "7dc60193",
   "metadata": {},
   "outputs": [
    {
     "name": "stdout",
     "output_type": "stream",
     "text": [
      "{'Steel': 0, 'Bug': 1, 'Ice': 2, nan: 3, 'Water': 4, 'Fire': 5, 'Poison': 6, 'Flying': 7, 'Ground': 8, 'Dark': 9, 'Rock': 10, 'Normal': 11, 'Fighting': 12, 'Dragon': 13, 'Electric': 14, 'Psychic': 15, 'Ghost': 16, 'Fairy': 17, 'Grass': 18}\n"
     ]
    }
   ],
   "source": [
    "typeto_number = {}\n",
    "for i in range(len(type_list_unique)):\n",
    "    typeto_number[type_list_unique[i]] = i\n",
    "print(typeto_number)"
   ]
  },
  {
   "cell_type": "code",
   "execution_count": 42,
   "id": "e4551a4d",
   "metadata": {},
   "outputs": [],
   "source": [
    "type_list2 = df['Type 2'].to_list()"
   ]
  },
  {
   "cell_type": "code",
   "execution_count": 43,
   "id": "11a17668",
   "metadata": {},
   "outputs": [
    {
     "name": "stdout",
     "output_type": "stream",
     "text": [
      "['Poison', 'Poison', 'Poison', 'Poison', nan, nan, 'Flying', 'Dragon', 'Flying', nan, nan, nan, nan, nan, nan, 'Flying', 'Poison', 'Poison', 'Poison', 'Poison', 'Flying', 'Flying', 'Flying', 'Flying', nan, nan, 'Flying', 'Flying', nan, nan, nan, nan, nan, nan, nan, nan, 'Ground', nan, nan, 'Ground', nan, nan, nan, nan, 'Fairy', 'Fairy', 'Flying', 'Flying', 'Poison', 'Poison', 'Poison', 'Grass', 'Grass', 'Poison', 'Poison', nan, nan, nan, nan, nan, nan, nan, nan, nan, nan, nan, nan, 'Fighting', nan, nan, nan, nan, nan, nan, nan, 'Poison', 'Poison', 'Poison', 'Poison', 'Poison', 'Ground', 'Ground', 'Ground', nan, nan, 'Psychic', 'Psychic', 'Psychic', 'Steel', 'Steel', 'Flying', 'Flying', 'Flying', nan, 'Ice', nan, nan, nan, 'Ice', 'Poison', 'Poison', 'Poison', 'Poison', 'Ground', nan, nan, nan, nan, nan, nan, 'Psychic', 'Psychic', nan, nan, nan, nan, nan, nan, nan, 'Rock', 'Rock', nan, nan, nan, nan, nan, nan, nan, nan, nan, 'Psychic', 'Fairy', 'Flying', 'Psychic', nan, nan, nan, 'Flying', nan, nan, 'Flying', 'Dark', 'Ice', nan, nan, nan, nan, nan, nan, 'Water', 'Water', 'Water', 'Water', 'Flying', 'Flying', nan, 'Flying', 'Flying', 'Flying', nan, nan, 'Flying', nan, 'Fighting', nan, nan, nan, nan, nan, nan, nan, nan, nan, nan, nan, nan, nan, 'Flying', 'Flying', 'Flying', 'Flying', 'Poison', 'Poison', 'Flying', 'Electric', 'Electric', nan, nan, 'Fairy', nan, 'Flying', 'Flying', 'Flying', nan, nan, nan, 'Dragon', nan, 'Fairy', 'Fairy', nan, nan, 'Flying', 'Flying', 'Flying', nan, nan, nan, 'Flying', 'Ground', 'Ground', nan, nan, 'Flying', 'Psychic', nan, nan, nan, 'Psychic', nan, 'Steel', nan, 'Flying', 'Ground', 'Ground', nan, nan, 'Poison', 'Steel', 'Steel', 'Rock', 'Fighting', 'Fighting', 'Ice', nan, nan, nan, 'Rock', 'Ground', 'Ground', 'Rock', nan, nan, 'Flying', 'Flying', 'Flying', 'Fire', 'Fire', 'Fire', 'Dragon', nan, nan, nan, nan, nan, nan, nan, 'Psychic', nan, nan, nan, nan, nan, nan, nan, 'Ground', 'Ground', 'Dark', 'Dark', 'Flying', 'Flying', 'Grass', nan, nan, nan, 'Dragon', nan, 'Fighting', 'Fighting', 'Fighting', nan, 'Ground', 'Ground', 'Ground', nan, nan, nan, nan, nan, nan, 'Flying', nan, 'Poison', 'Grass', 'Grass', 'Grass', nan, 'Dark', 'Dark', 'Flying', 'Flying', 'Flying', 'Flying', 'Fairy', 'Fairy', 'Fairy', 'Fairy', 'Water', 'Flying', nan, 'Fighting', nan, nan, nan, 'Ground', 'Flying', 'Ghost', nan, nan, nan, nan, nan, 'Fairy', nan, nan, nan, 'Ghost', 'Ghost', 'Fairy', 'Fairy', 'Rock', 'Rock', 'Rock', nan, 'Psychic', 'Psychic', 'Psychic', nan, nan, nan, nan, nan, nan, nan, 'Poison', nan, nan, 'Dark', 'Dark', 'Dark', nan, nan, 'Ground', 'Ground', 'Ground', nan, nan, nan, nan, nan, 'Dragon', 'Dragon', nan, 'Dark', 'Flying', 'Flying', 'Fairy', nan, nan, 'Psychic', 'Psychic', 'Ground', 'Ground', nan, 'Dark', 'Psychic', 'Psychic', 'Grass', 'Grass', 'Bug', 'Bug', nan, nan, nan, nan, nan, nan, nan, nan, nan, 'Flying', nan, nan, nan, nan, nan, nan, nan, 'Water', 'Water', 'Water', nan, nan, nan, 'Rock', nan, nan, nan, 'Flying', 'Flying', 'Psychic', 'Psychic', 'Psychic', 'Psychic', nan, nan, nan, 'Psychic', 'Psychic', 'Psychic', 'Psychic', nan, nan, nan, 'Fire', 'Flying', 'Flying', 'Psychic', nan, nan, nan, nan, nan, nan, 'Ground', nan, 'Fighting', 'Fighting', nan, nan, 'Steel', 'Flying', 'Flying', 'Flying', nan, 'Water', nan, nan, nan, nan, nan, 'Poison', 'Poison', nan, nan, 'Steel', 'Steel', nan, 'Grass', 'Ground', 'Steel', 'Flying', 'Flying', 'Flying', nan, nan, nan, nan, nan, nan, 'Ground', nan, 'Flying', 'Flying', nan, nan, 'Fighting', nan, 'Flying', nan, nan, nan, 'Dark', 'Dark', 'Psychic', 'Psychic', nan, 'Fairy', nan, 'Flying', 'Dark', 'Ground', 'Ground', 'Ground', 'Ground', nan, nan, 'Steel', 'Steel', nan, nan, 'Bug', 'Dark', 'Fighting', 'Fighting', nan, nan, nan, 'Flying', 'Ice', 'Ice', 'Ice', 'Ice', 'Steel', nan, 'Rock', nan, nan, nan, 'Flying', 'Flying', nan, nan, 'Flying', 'Ground', nan, 'Fighting', 'Fighting', 'Steel', nan, 'Ghost', 'Ghost', 'Fire', 'Water', 'Ice', 'Flying', 'Grass', nan, nan, nan, 'Dragon', 'Dragon', 'Steel', nan, 'Dragon', 'Dragon', nan, nan, nan, nan, nan, 'Flying', nan, 'Fire', nan, nan, nan, nan, 'Fighting', 'Fighting', nan, nan, nan, nan, nan, nan, nan, nan, nan, nan, nan, nan, nan, nan, nan, nan, nan, nan, 'Flying', 'Flying', 'Flying', nan, nan, nan, nan, nan, 'Flying', 'Flying', nan, 'Steel', nan, 'Fairy', nan, nan, nan, nan, 'Ground', 'Ground', nan, nan, 'Grass', 'Grass', 'Grass', 'Poison', 'Poison', 'Poison', 'Fairy', 'Fairy', nan, nan, nan, 'Dark', 'Dark', 'Dark', nan, nan, 'Psychic', nan, 'Rock', 'Rock', 'Fighting', 'Fighting', 'Flying', nan, nan, 'Rock', 'Rock', 'Flying', 'Flying', nan, nan, nan, nan, nan, nan, nan, nan, nan, nan, nan, nan, 'Flying', 'Flying', nan, nan, nan, 'Grass', 'Grass', 'Flying', nan, 'Steel', 'Poison', 'Poison', 'Ghost', 'Ghost', nan, 'Electric', 'Electric', 'Steel', 'Steel', nan, nan, nan, nan, nan, nan, nan, nan, 'Fire', 'Fire', 'Fire', nan, nan, nan, nan, nan, nan, nan, nan, 'Electric', nan, nan, nan, 'Ghost', 'Ghost', 'Steel', 'Steel', nan, 'Flying', 'Flying', 'Flying', 'Flying', nan, 'Steel', 'Dragon', 'Dragon', 'Dragon', 'Fire', 'Fire', 'Fighting', 'Fighting', 'Fighting', nan, nan, 'Flying', 'Flying', 'Fire', 'Electric', 'Flying', 'Flying', 'Ice', 'Ice', 'Ice', 'Fighting', 'Fighting', 'Psychic', 'Fighting', 'Steel', nan, nan, 'Fighting', nan, nan, 'Psychic', nan, nan, 'Dark', nan, 'Ground', 'Flying', 'Flying', 'Flying', nan, nan, 'Flying', 'Normal', 'Normal', nan, nan, nan, nan, nan, nan, 'Dark', nan, nan, nan, nan, 'Ghost', 'Ghost', 'Ghost', 'Ghost', nan, nan, nan, nan, 'Psychic', 'Psychic', 'Water', 'Water', 'Water', 'Dragon', nan, nan, 'Normal', 'Normal', 'Dragon', 'Dragon', 'Ice', 'Ice', nan, 'Flying', 'Fairy', 'Fairy', nan, nan, nan, 'Fairy', 'Grass', 'Grass', 'Grass', 'Grass', 'Grass', 'Grass', 'Grass', 'Grass', 'Grass', 'Grass', nan, nan, 'Dragon', 'Dragon', nan, 'Flying', 'Ground', 'Fairy', 'Fairy', 'Ghost', 'Dark', 'Water']\n"
     ]
    }
   ],
   "source": [
    "print(type_list2)"
   ]
  },
  {
   "cell_type": "code",
   "execution_count": 44,
   "id": "00059f5e",
   "metadata": {},
   "outputs": [],
   "source": [
    "type1d_list = []\n",
    "for type in type_list:\n",
    "    type1d_list.append(typeto_number[type])"
   ]
  },
  {
   "cell_type": "code",
   "execution_count": 45,
   "id": "b24491ca",
   "metadata": {},
   "outputs": [
    {
     "name": "stdout",
     "output_type": "stream",
     "text": [
      "[18, 18, 18, 18, 5, 5, 5, 5, 5, 4, 4, 4, 4, 1, 1, 1, 1, 1, 1, 1, 11, 11, 11, 11, 11, 11, 11, 11, 6, 6, 14, 14, 8, 8, 6, 6, 6, 6, 6, 6, 17, 17, 5, 5, 11, 11, 6, 6, 18, 18, 18, 1, 1, 1, 1, 8, 8, 11, 11, 4, 4, 12, 12, 5, 5, 4, 4, 4, 15, 15, 15, 15, 12, 12, 12, 18, 18, 18, 4, 4, 10, 10, 10, 5, 5, 4, 4, 4, 14, 14, 11, 11, 11, 4, 4, 6, 6, 4, 4, 16, 16, 16, 16, 10, 15, 15, 4, 4, 14, 14, 18, 18, 8, 8, 12, 12, 11, 6, 6, 8, 8, 11, 18, 11, 11, 4, 4, 4, 4, 4, 4, 15, 1, 2, 14, 5, 1, 1, 11, 4, 4, 4, 4, 11, 11, 4, 14, 5, 11, 10, 10, 10, 10, 10, 10, 11, 2, 14, 5, 13, 13, 13, 15, 15, 15, 15, 18, 18, 18, 5, 5, 5, 4, 4, 4, 11, 11, 11, 11, 1, 1, 1, 1, 6, 4, 4, 14, 17, 11, 17, 17, 15, 15, 14, 14, 14, 14, 18, 4, 4, 10, 4, 18, 18, 18, 11, 18, 18, 1, 4, 4, 15, 9, 9, 4, 16, 15, 15, 11, 1, 1, 11, 8, 0, 0, 17, 17, 4, 1, 1, 1, 1, 1, 9, 11, 11, 5, 5, 2, 2, 4, 4, 4, 2, 4, 0, 9, 9, 9, 4, 8, 8, 11, 11, 11, 12, 12, 2, 14, 5, 11, 11, 14, 5, 4, 10, 10, 10, 10, 15, 5, 15, 18, 18, 18, 18, 5, 5, 5, 5, 4, 4, 4, 4, 9, 9, 11, 11, 1, 1, 1, 1, 1, 4, 4, 4, 18, 18, 18, 11, 11, 4, 4, 15, 15, 15, 15, 1, 1, 18, 18, 11, 11, 11, 1, 1, 1, 11, 11, 11, 12, 12, 11, 10, 11, 11, 9, 9, 0, 0, 0, 0, 0, 0, 12, 12, 12, 14, 14, 14, 14, 14, 1, 1, 18, 6, 6, 4, 4, 4, 4, 4, 5, 5, 5, 5, 15, 15, 11, 8, 8, 8, 18, 18, 11, 13, 13, 11, 6, 10, 10, 4, 4, 4, 4, 8, 8, 10, 10, 10, 10, 4, 4, 11, 11, 16, 16, 16, 16, 16, 18, 15, 9, 9, 15, 2, 2, 2, 2, 2, 2, 4, 4, 4, 4, 4, 13, 13, 13, 13, 0, 0, 0, 0, 10, 2, 0, 13, 13, 13, 13, 4, 4, 8, 8, 13, 13, 0, 15, 15, 15, 15, 18, 18, 18, 5, 5, 5, 4, 4, 4, 11, 11, 11, 11, 11, 1, 1, 14, 14, 14, 18, 18, 10, 10, 10, 10, 1, 1, 1, 1, 1, 1, 1, 14, 4, 4, 18, 18, 4, 4, 11, 16, 16, 11, 11, 11, 16, 9, 11, 11, 15, 6, 6, 0, 0, 10, 15, 11, 11, 16, 13, 13, 13, 13, 11, 12, 12, 12, 8, 8, 6, 6, 6, 6, 18, 4, 4, 4, 18, 18, 18, 9, 14, 11, 8, 18, 14, 5, 17, 1, 18, 2, 8, 2, 11, 15, 15, 10, 16, 2, 14, 14, 14, 14, 14, 14, 15, 15, 15, 0, 4, 5, 11, 16, 16, 15, 4, 4, 9, 18, 18, 11, 15, 18, 18, 18, 5, 5, 5, 4, 4, 4, 11, 11, 11, 11, 11, 9, 9, 18, 18, 5, 5, 4, 4, 15, 15, 11, 11, 11, 14, 14, 10, 10, 10, 15, 15, 8, 8, 11, 11, 12, 12, 12, 4, 4, 4, 12, 12, 1, 1, 1, 1, 1, 1, 18, 18, 18, 18, 4, 8, 8, 8, 5, 5, 5, 18, 1, 1, 9, 9, 15, 16, 16, 4, 4, 10, 10, 6, 6, 9, 9, 11, 11, 15, 15, 15, 15, 15, 15, 4, 4, 2, 2, 2, 11, 11, 14, 1, 1, 18, 18, 4, 4, 4, 1, 1, 18, 18, 0, 0, 0, 14, 14, 14, 15, 15, 16, 16, 16, 13, 13, 13, 2, 2, 2, 1, 1, 8, 12, 12, 13, 8, 8, 9, 9, 11, 11, 11, 9, 9, 5, 1, 9, 9, 9, 1, 1, 0, 10, 18, 7, 7, 14, 14, 13, 13, 8, 8, 13, 13, 13, 4, 4, 11, 11, 1, 18, 18, 18, 5, 5, 5, 4, 4, 4, 11, 11, 11, 5, 5, 1, 1, 1, 5, 5, 17, 17, 17, 18, 18, 12, 12, 11, 15, 15, 15, 0, 0, 0, 0, 17, 17, 17, 17, 9, 9, 10, 10, 6, 6, 4, 4, 14, 14, 10, 10, 10, 10, 17, 12, 14, 10, 13, 13, 13, 0, 16, 16, 16, 16, 16, 16, 16, 16, 16, 16, 2, 2, 7, 7, 17, 9, 13, 10, 10, 15, 15, 5]\n"
     ]
    }
   ],
   "source": [
    "print(type1d_list)"
   ]
  },
  {
   "cell_type": "code",
   "execution_count": 46,
   "id": "b582840d",
   "metadata": {},
   "outputs": [],
   "source": [
    "type2d_list = []\n",
    "for type in type_list2:\n",
    "    type2d_list.append(typeto_number[type])"
   ]
  },
  {
   "cell_type": "code",
   "execution_count": 47,
   "id": "acd0630e",
   "metadata": {},
   "outputs": [
    {
     "name": "stdout",
     "output_type": "stream",
     "text": [
      "[6, 6, 6, 6, 3, 3, 7, 13, 7, 3, 3, 3, 3, 3, 3, 7, 6, 6, 6, 6, 7, 7, 7, 7, 3, 3, 7, 7, 3, 3, 3, 3, 3, 3, 3, 3, 8, 3, 3, 8, 3, 3, 3, 3, 17, 17, 7, 7, 6, 6, 6, 18, 18, 6, 6, 3, 3, 3, 3, 3, 3, 3, 3, 3, 3, 3, 3, 12, 3, 3, 3, 3, 3, 3, 3, 6, 6, 6, 6, 6, 8, 8, 8, 3, 3, 15, 15, 15, 0, 0, 7, 7, 7, 3, 2, 3, 3, 3, 2, 6, 6, 6, 6, 8, 3, 3, 3, 3, 3, 3, 15, 15, 3, 3, 3, 3, 3, 3, 3, 10, 10, 3, 3, 3, 3, 3, 3, 3, 3, 3, 15, 17, 7, 15, 3, 3, 3, 7, 3, 3, 7, 9, 2, 3, 3, 3, 3, 3, 3, 4, 4, 4, 4, 7, 7, 3, 7, 7, 7, 3, 3, 7, 3, 12, 3, 3, 3, 3, 3, 3, 3, 3, 3, 3, 3, 3, 3, 7, 7, 7, 7, 6, 6, 7, 14, 14, 3, 3, 17, 3, 7, 7, 7, 3, 3, 3, 13, 3, 17, 17, 3, 3, 7, 7, 7, 3, 3, 3, 7, 8, 8, 3, 3, 7, 15, 3, 3, 3, 15, 3, 0, 3, 7, 8, 8, 3, 3, 6, 0, 0, 10, 12, 12, 2, 3, 3, 3, 10, 8, 8, 10, 3, 3, 7, 7, 7, 5, 5, 5, 13, 3, 3, 3, 3, 3, 3, 3, 15, 3, 3, 3, 3, 3, 3, 3, 8, 8, 9, 9, 7, 7, 18, 3, 3, 3, 13, 3, 12, 12, 12, 3, 8, 8, 8, 3, 3, 3, 3, 3, 3, 7, 3, 6, 18, 18, 18, 3, 9, 9, 7, 7, 7, 7, 17, 17, 17, 17, 4, 7, 3, 12, 3, 3, 3, 8, 7, 16, 3, 3, 3, 3, 3, 17, 3, 3, 3, 16, 16, 17, 17, 10, 10, 10, 3, 15, 15, 15, 3, 3, 3, 3, 3, 3, 3, 6, 3, 3, 9, 9, 9, 3, 3, 8, 8, 8, 3, 3, 3, 3, 3, 13, 13, 3, 9, 7, 7, 17, 3, 3, 15, 15, 8, 8, 3, 9, 15, 15, 18, 18, 1, 1, 3, 3, 3, 3, 3, 3, 3, 3, 3, 7, 3, 3, 3, 3, 3, 3, 3, 4, 4, 4, 3, 3, 3, 10, 3, 3, 3, 7, 7, 15, 15, 15, 15, 3, 3, 3, 15, 15, 15, 15, 3, 3, 3, 5, 7, 7, 15, 3, 3, 3, 3, 3, 3, 8, 3, 12, 12, 3, 3, 0, 7, 7, 7, 3, 4, 3, 3, 3, 3, 3, 6, 6, 3, 3, 0, 0, 3, 18, 8, 0, 7, 7, 7, 3, 3, 3, 3, 3, 3, 8, 3, 7, 7, 3, 3, 12, 3, 7, 3, 3, 3, 9, 9, 15, 15, 3, 17, 3, 7, 9, 8, 8, 8, 8, 3, 3, 0, 0, 3, 3, 1, 9, 12, 12, 3, 3, 3, 7, 2, 2, 2, 2, 0, 3, 10, 3, 3, 3, 7, 7, 3, 3, 7, 8, 3, 12, 12, 0, 3, 16, 16, 5, 4, 2, 7, 18, 3, 3, 3, 13, 13, 0, 3, 13, 13, 3, 3, 3, 3, 3, 7, 3, 5, 3, 3, 3, 3, 12, 12, 3, 3, 3, 3, 3, 3, 3, 3, 3, 3, 3, 3, 3, 3, 3, 3, 3, 3, 7, 7, 7, 3, 3, 3, 3, 3, 7, 7, 3, 0, 3, 17, 3, 3, 3, 3, 8, 8, 3, 3, 18, 18, 18, 6, 6, 6, 17, 17, 3, 3, 3, 9, 9, 9, 3, 3, 15, 3, 10, 10, 12, 12, 7, 3, 3, 10, 10, 7, 7, 3, 3, 3, 3, 3, 3, 3, 3, 3, 3, 3, 3, 7, 7, 3, 3, 3, 18, 18, 7, 3, 0, 6, 6, 16, 16, 3, 14, 14, 0, 0, 3, 3, 3, 3, 3, 3, 3, 3, 5, 5, 5, 3, 3, 3, 3, 3, 3, 3, 3, 14, 3, 3, 3, 16, 16, 0, 0, 3, 7, 7, 7, 7, 3, 0, 13, 13, 13, 5, 5, 12, 12, 12, 3, 3, 7, 7, 5, 14, 7, 7, 2, 2, 2, 12, 12, 15, 12, 0, 3, 3, 12, 3, 3, 15, 3, 3, 9, 3, 8, 7, 7, 7, 3, 3, 7, 11, 11, 3, 3, 3, 3, 3, 3, 9, 3, 3, 3, 3, 16, 16, 16, 16, 3, 3, 3, 3, 15, 15, 4, 4, 4, 13, 3, 3, 11, 11, 13, 13, 2, 2, 3, 7, 17, 17, 3, 3, 3, 17, 18, 18, 18, 18, 18, 18, 18, 18, 18, 18, 3, 3, 13, 13, 3, 7, 8, 17, 17, 16, 9, 4]\n"
     ]
    }
   ],
   "source": [
    "print(type2d_list)"
   ]
  },
  {
   "cell_type": "code",
   "execution_count": 48,
   "id": "5098e5fc",
   "metadata": {},
   "outputs": [],
   "source": [
    "HP_list = df['HP'].to_list()"
   ]
  },
  {
   "cell_type": "code",
   "execution_count": 49,
   "id": "920a20a0",
   "metadata": {},
   "outputs": [],
   "source": [
    "Attack_list = df['Attack'].to_list()"
   ]
  },
  {
   "cell_type": "code",
   "execution_count": 50,
   "id": "fd838379",
   "metadata": {},
   "outputs": [
    {
     "name": "stdout",
     "output_type": "stream",
     "text": [
      "Index(['#', 'Name', 'Type 1', 'Type 2', 'HP', 'Attack', 'Defense', 'Sp. Atk',\n",
      "       'Sp. Def', 'Speed', 'Generation', 'Legendary'],\n",
      "      dtype='object')\n"
     ]
    }
   ],
   "source": [
    "print(df.columns)"
   ]
  },
  {
   "cell_type": "code",
   "execution_count": 51,
   "id": "6f3c5dca",
   "metadata": {},
   "outputs": [],
   "source": [
    "Defense_list = df['Defense'].to_list()"
   ]
  },
  {
   "cell_type": "code",
   "execution_count": 52,
   "id": "d7854fa9",
   "metadata": {},
   "outputs": [],
   "source": [
    "numpyarry_list = np.array([type1d_list , type2d_list , HP_list, Attack_list , Defense_list])"
   ]
  },
  {
   "cell_type": "code",
   "execution_count": 53,
   "id": "4f315378",
   "metadata": {},
   "outputs": [],
   "source": [
    "nptp = np.transpose(numpyarry_list)"
   ]
  },
  {
   "cell_type": "code",
   "execution_count": 54,
   "id": "fe3fb9ec",
   "metadata": {},
   "outputs": [],
   "source": [
    "tensor  = torch.tensor(nptp)"
   ]
  },
  {
   "cell_type": "code",
   "execution_count": 55,
   "id": "f87490bb-6408-4d93-a6e8-64fd2c5c4d94",
   "metadata": {},
   "outputs": [
    {
     "name": "stdout",
     "output_type": "stream",
     "text": [
      "tensor([[ 18,   6,  45,  49,  49],\n",
      "        [ 18,   6,  60,  62,  63],\n",
      "        [ 18,   6,  80,  82,  83],\n",
      "        ...,\n",
      "        [ 15,  16,  80, 110,  60],\n",
      "        [ 15,   9,  80, 160,  60],\n",
      "        [  5,   4,  80, 110, 120]], dtype=torch.int32)\n"
     ]
    }
   ],
   "source": [
    "print(tensor)"
   ]
  },
  {
   "cell_type": "code",
   "execution_count": 63,
   "id": "310305cc-8ed8-450b-931d-841f458ae459",
   "metadata": {},
   "outputs": [],
   "source": [
    "autoencoder = Sequential([Dense(5 , activation = 'relu') , Dense(16 , activation= 'relu'), Dense(2 ,activation = 'relu'), Dense(16 , activation= 'relu'), Dense(5 , activation = 'relu') ])"
   ]
  },
  {
   "cell_type": "code",
   "execution_count": 67,
   "id": "7db65f60-5073-40c6-94a1-94767ab26ced",
   "metadata": {},
   "outputs": [],
   "source": [
    "autoencoder.compile(optimizer = 'adam' ,loss = 'mse')"
   ]
  },
  {
   "cell_type": "code",
   "execution_count": null,
   "id": "7cd1372b-03d0-4271-93b9-d8eab1edc4eb",
   "metadata": {},
   "outputs": [],
   "source": []
  }
 ],
 "metadata": {
  "kernelspec": {
   "display_name": "Python 3 (ipykernel)",
   "language": "python",
   "name": "python3"
  },
  "language_info": {
   "codemirror_mode": {
    "name": "ipython",
    "version": 3
   },
   "file_extension": ".py",
   "mimetype": "text/x-python",
   "name": "python",
   "nbconvert_exporter": "python",
   "pygments_lexer": "ipython3",
   "version": "3.12.2"
  }
 },
 "nbformat": 4,
 "nbformat_minor": 5
}
